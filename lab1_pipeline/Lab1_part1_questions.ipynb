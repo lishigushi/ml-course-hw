{
 "cells": [
  {
   "cell_type": "markdown",
   "metadata": {},
   "source": [
    "*Credits: materials from this notebook belong to YSDA [Practical DL](https://github.com/yandexdataschool/Practical_DL) course. Special thanks for making them available online.*"
   ]
  },
  {
   "cell_type": "markdown",
   "metadata": {},
   "source": [
    "# Lab assignment №1, part 1\n",
    "\n",
    "This lab assignment consists of several parts. You are supposed to make some transformations, train some models, estimate the quality of the models and explain your results.\n",
    "\n",
    "Several comments:\n",
    "* Don't hesitate to ask questions, it's a good practice.\n",
    "* No private/public sharing, please. The copied assignments will be graded with 0 points.\n",
    "* Blocks of this lab will be graded separately."
   ]
  },
  {
   "cell_type": "markdown",
   "metadata": {},
   "source": [
    "## 1. Matrix differentiation"
   ]
  },
  {
   "cell_type": "markdown",
   "metadata": {},
   "source": [
    "Since it easy to google every task please please please try to undestand what's going on. The \"just answer\" thing will be not counted, make sure to present derivation of your solution. It is absolutely OK if you found an answer on web then just exercise in $\\LaTeX$ copying it into here."
   ]
  },
  {
   "cell_type": "markdown",
   "metadata": {},
   "source": [
    "Useful links: \n",
    "[1](http://www.machinelearning.ru/wiki/images/2/2a/Matrix-Gauss.pdf)\n",
    "[2](http://www.atmos.washington.edu/~dennis/MatrixCalculus.pdf)"
   ]
  },
  {
   "cell_type": "markdown",
   "metadata": {},
   "source": [
    "## ex. 1"
   ]
  },
  {
   "cell_type": "markdown",
   "metadata": {},
   "source": [
    "$$  \n",
    "y = x^Tx,  \\quad x \\in \\mathbb{R}^N \n",
    "$$"
   ]
  },
  {
   "cell_type": "markdown",
   "metadata": {},
   "source": [
    "$y$ — скаляр, $x$ — вектор. Производная скаляра по вектору — вектор.\n",
    "\n",
    "Можно рассмотреть $y$ как\n",
    "$$y = \\sum_{i=1}^nx_i^2$$\n",
    "\n",
    "и взять производную по каждой компоненте\n",
    "\n",
    "$$\n",
    "\\frac{dy}{dx} = \\begin{bmatrix}\n",
    "\\frac{dy}{dx_1} \\\\\n",
    "\\frac{dy}{dx_2} \\\\\n",
    "\\vdots \\\\\n",
    "\\frac{dy}{dx_n}\n",
    "\\end{bmatrix}\n",
    "=  \\begin{bmatrix}\n",
    "2x_1 \\\\\n",
    "2x_2 \\\\\n",
    "\\vdots\\\\\n",
    "2x_n\n",
    "\\end{bmatrix} = 2x\n",
    "$$ "
   ]
  },
  {
   "cell_type": "code",
   "execution_count": null,
   "metadata": {},
   "outputs": [],
   "source": []
  },
  {
   "cell_type": "markdown",
   "metadata": {},
   "source": [
    "## ex. 2"
   ]
  },
  {
   "cell_type": "markdown",
   "metadata": {},
   "source": [
    "$$ y = tr(AB) \\quad A,B \\in \\mathbb{R}^{N \\times N} $$ "
   ]
  },
  {
   "cell_type": "markdown",
   "metadata": {},
   "source": [
    "След можно расписать как\n",
    "$$y=tr(AB)=\\sum_{i=1}^n\\sum_{j=1}^nA_{ij}B_{ij}$$\n",
    "\n",
    "Тогда производная по каждой компоненте $A$\n",
    "$$\\frac{dy}{dA}=\n",
    "\\begin{bmatrix}\n",
    "\\frac{dy}{dA_{11}} & \\frac{dy}{dA_{12}} & \\cdots & \\frac{dy}{dA_{1n}}\\\\\n",
    "\\frac{dy}{dA_{21}} & \\ddots &  & \\vdots \\\\\n",
    "\\vdots & & \\ddots & \\vdots \\\\\n",
    "\\frac{dy}{dA_{n1}} & \\cdots & \\cdots &\\frac{dy}{dA_{nn}}\n",
    "\\end{bmatrix}$$\n",
    "\n",
    "Каждая компонента матрицы $A$ может быть найдена вычислением производной $y$ по этой компоненте\n",
    "\n",
    "$$\\frac{dy}{dA_{ij}}=B_{ji}$$\n",
    "\n",
    "Таким образом\n",
    "\n",
    "$$\n",
    "\\frac{dy}{dA} = B^T\n",
    "$$"
   ]
  },
  {
   "cell_type": "code",
   "execution_count": null,
   "metadata": {
    "collapsed": true,
    "jupyter": {
     "outputs_hidden": true
    }
   },
   "outputs": [],
   "source": []
  },
  {
   "cell_type": "markdown",
   "metadata": {},
   "source": [
    "## ex. 3"
   ]
  },
  {
   "cell_type": "markdown",
   "metadata": {},
   "source": [
    "$$  \n",
    "y = x^TAc , \\quad A\\in \\mathbb{R}^{N \\times N}, x\\in \\mathbb{R}^{N}, c\\in \\mathbb{R}^{N} \n",
    "$$"
   ]
  },
  {
   "cell_type": "markdown",
   "metadata": {},
   "source": [
    "$y$ можно расписать:\n",
    "\n",
    "$$y = x^TAc = \\sum_{i=1}^n\\sum_{j=1}^n x_i A_{ij} c_j$$\n",
    "\n",
    "тогда производная по $x$:\n",
    "\n",
    "$$\n",
    "\\frac{dy}{dx} = Ac\n",
    "$$"
   ]
  },
  {
   "cell_type": "markdown",
   "metadata": {},
   "source": [
    "используя факт $tr(ABC) = tr (CAB)$:\n",
    "$$y=x^TAc=tr(x^TAc)=tr(cx^TA)$$\n",
    "\n",
    "используя результат ex.2:\n",
    "\n",
    "$$\n",
    "\\frac{dy}{dA} = (cx^T)^T = cx^T \n",
    "$$"
   ]
  },
  {
   "cell_type": "markdown",
   "metadata": {},
   "source": [
    "Hint for the latter (one of the ways): use *ex. 2* result and the fact \n",
    "$$\n",
    "tr(ABC) = tr (CAB)\n",
    "$$"
   ]
  },
  {
   "cell_type": "code",
   "execution_count": null,
   "metadata": {
    "collapsed": true,
    "jupyter": {
     "outputs_hidden": true
    }
   },
   "outputs": [],
   "source": []
  },
  {
   "cell_type": "markdown",
   "metadata": {},
   "source": [
    "## ex. 4"
   ]
  },
  {
   "cell_type": "markdown",
   "metadata": {},
   "source": [
    "Classic matrix factorization example. Given matrix $X$ you need to find $A$, $S$ to approximate $X$. This can be done by simple gradient descent iteratively alternating $A$ and $S$ updates.\n",
    "$$\n",
    "J = || X - AS ||_F^2  , \\quad A\\in \\mathbb{R}^{N \\times R} , \\quad S\\in \\mathbb{R}^{R \\times M}\n",
    "$$\n",
    "$$\n",
    "\\frac{dJ}{dS} = ? \n",
    "$$\n",
    "\n",
    "You may use one of the following approaches:"
   ]
  },
  {
   "cell_type": "markdown",
   "metadata": {},
   "source": [
    "#### First approach\n",
    "Using ex.2 and the fact:\n",
    "$$\n",
    "|| X ||_F^2 = tr(XX^T) \n",
    "$$ \n",
    "it is easy to derive gradients (you can find it in one of the refs). "
   ]
  },
  {
   "cell_type": "markdown",
   "metadata": {},
   "source": [
    "#### Second approach\n",
    "You can use *slightly different techniques* if they suits you. Take a look at this derivation:\n",
    "<img src=\"grad.png\">\n",
    "(excerpt from [Handbook of blind source separation, Jutten, page 517](https://books.google.ru/books?id=PTbj03bYH6kC&printsec=frontcover&dq=Handbook+of+Blind+Source+Separation&hl=en&sa=X&ved=0ahUKEwi-q_apiJDLAhULvXIKHVXJDWcQ6AEIHDAA#v=onepage&q=Handbook%20of%20Blind%20Source%20Separation&f=false), open for better picture)."
   ]
  },
  {
   "cell_type": "markdown",
   "metadata": {},
   "source": [
    "#### Third approach\n",
    "And finally we can use chain rule! \n",
    "let $ F = AS $ \n",
    "\n",
    "**Find**\n",
    "норма Фробениуса:\n",
    "$$\\|A\\|_F=\\sqrt{\\sum_i\\sum_j\\|A_{i,j}|^2}$$\n",
    "\n",
    "отсюда $J$ можно записать как:\n",
    "$$\\begin{aligned}\n",
    "J &= \\|X-F\\|^2=\\sum_i\\sum_j(X_{i,j}-F_{i,j})^2\n",
    "\\end{aligned}$$\n",
    "\n",
    "$$\n",
    "\\frac{dJ}{dF} = -2(X - F)\n",
    "$$ \n",
    "and \n",
    "\n",
    "$$F=AS$$\n",
    "\n",
    "Тут загвоздка в том, что в результате получается тензор, в котором $(i,j,k)$-й элемент — это частная производная $(i,j)$-го элемента $F$ по $(j,k)$-му элементу $S$, поэтому, чтобы не терять размерности, можно записать как\n",
    "\n",
    "$$\n",
    "\\bigg(\\frac{dF}{dS}\\bigg)_{ijk} =  A_{ik}\n",
    "$$ \n",
    "(the shape should be $ NM \\times RM )$.\n",
    "\n",
    "Now it is easy do get desired gradients:\n",
    "$$\\bigg(\\frac{dJ}{dS}\\bigg)_{jk} =\\sum_i -2(X-F)\\cdot A_{ik}$$\n",
    "\n",
    "$$\n",
    "\\frac{dJ}{dS} = -2A^T(X-F)= -2A^T(X-AS)\n",
    "$$ "
   ]
  },
  {
   "cell_type": "markdown",
   "metadata": {
    "collapsed": true,
    "jupyter": {
     "outputs_hidden": true
    }
   },
   "source": [
    "## 2. kNN questions\n",
    "Here come the questions from the assignment0_01. Please, refer to the assignment0_01 to get the context of the questions."
   ]
  },
  {
   "cell_type": "markdown",
   "metadata": {},
   "source": [
    "### Question 1\n",
    "\n",
    "Notice the structured patterns in the distance matrix, where some rows or columns are visible brighter. (Note that with the default color scheme black indicates low distances while white indicates high distances.)\n",
    "\n",
    "- What in the data is the cause behind the distinctly bright rows?\n",
    "- What causes the columns?\n",
    "\n",
    "*Your Answer:*\n",
    "- Яркость строки показывает, что точка тестового набора находится на большом расстоянии от точек тренировочного набора. \n",
    "- Яркость столбца показывает, что точка тренировочного набора находится на большом расстоянии от точек тестового набора. "
   ]
  },
  {
   "cell_type": "markdown",
   "metadata": {},
   "source": [
    "### Question 2\n",
    "\n",
    "We can also use other distance metrics such as L1 distance.\n",
    "For pixel values $p_{ij}^{(k)}$ at location $(i,j)$ of some image $I_k$, \n",
    "\n",
    "the mean $\\mu$ across all pixels over all images is $$\\mu=\\frac{1}{nhw}\\sum_{k=1}^n\\sum_{i=1}^{h}\\sum_{j=1}^{w}p_{ij}^{(k)}$$\n",
    "And the pixel-wise mean $\\mu_{ij}$ across all images is \n",
    "$$\\mu_{ij}=\\frac{1}{n}\\sum_{k=1}^np_{ij}^{(k)}.$$\n",
    "The general standard deviation $\\sigma$ and pixel-wise standard deviation $\\sigma_{ij}$ is defined similarly.\n",
    "\n",
    "Which of the following preprocessing steps will not change the performance of a Nearest Neighbor classifier that uses L1 distance? Select all that apply.\n",
    "1. Subtracting the mean $\\mu$ ($\\tilde{p}_{ij}^{(k)}=p_{ij}^{(k)}-\\mu$.)\n",
    "2. Subtracting the per pixel mean $\\mu_{ij}$  ($\\tilde{p}_{ij}^{(k)}=p_{ij}^{(k)}-\\mu_{ij}$.)\n",
    "3. Subtracting the mean $\\mu$ and dividing by the standard deviation $\\sigma$.\n",
    "4. Subtracting the pixel-wise mean $\\mu_{ij}$ and dividing by the pixel-wise standard deviation $\\sigma_{ij}$.\n",
    "5. Rotating the coordinate axes of the data.\n",
    "\n",
    "*Your Answer:*\n",
    "\n",
    "1 и 3\n",
    "\n",
    "*Your Explanation:*\n",
    "\n",
    "При вычитании $\\mu$ по датасету перфоманс с L1 не поменяется.\n",
    "При вычитании $\\mu$ по датасету и делении на $\\sigma$ перфоманс с L1 также не поменяется.\n",
    "\n",
    "Попиксельное изменение датасета на перформанс повлияет."
   ]
  },
  {
   "cell_type": "markdown",
   "metadata": {},
   "source": [
    "## Question 3\n",
    "\n",
    "Which of the following statements about $k$-Nearest Neighbor ($k$-NN) are true in a classification setting, and for all $k$? Select all that apply.\n",
    "1. The decision boundary (hyperplane between classes in feature space) of the k-NN classifier is linear.\n",
    "2. The training error of a 1-NN will always be lower than that of 5-NN.\n",
    "3. The test error of a 1-NN will always be lower than that of a 5-NN.\n",
    "4. The time needed to classify a test example with the k-NN classifier grows with the size of the training set.\n",
    "5. None of the above.\n",
    "\n",
    "*Your Answer:*\n",
    "\n",
    "2, 4\n",
    "\n",
    "*Your Explanation:*\n",
    "\n",
    "2 верно, потому что при обученнии модели с 1-NN ошибка будет всегда равна нулю, так как ближайшей точкой будет сама точка.\n",
    "\n",
    "4 верно, потому что во время прохода по тестовой выборке модели необходимо полностью проверить весь набор данных и отсортировать точки по расстоянию. Таким образом, время растет с увеличением размера тестовой выборки. \n",
    "\n"
   ]
  },
  {
   "cell_type": "code",
   "execution_count": null,
   "metadata": {},
   "outputs": [],
   "source": []
  }
 ],
 "metadata": {
  "kernelspec": {
   "display_name": "Python 3 (ipykernel)",
   "language": "python",
   "name": "python3"
  },
  "language_info": {
   "codemirror_mode": {
    "name": "ipython",
    "version": 3
   },
   "file_extension": ".py",
   "mimetype": "text/x-python",
   "name": "python",
   "nbconvert_exporter": "python",
   "pygments_lexer": "ipython3",
   "version": "3.11.6"
  }
 },
 "nbformat": 4,
 "nbformat_minor": 4
}
