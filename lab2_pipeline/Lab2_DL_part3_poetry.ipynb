{
 "cells": [
  {
   "cell_type": "markdown",
   "metadata": {},
   "source": [
    "## Lab 2"
   ]
  },
  {
   "cell_type": "markdown",
   "metadata": {},
   "source": [
    "### Part 3. Poetry generation\n",
    "\n",
    "Let's try to generate some poetry using RNNs. \n",
    "\n",
    "You have several choices here: \n",
    "\n",
    "* The Shakespeare sonnets, file `sonnets.txt` available in the notebook directory.\n",
    "\n",
    "* Роман в стихах \"Евгений Онегин\" Александра Сергеевича Пушкина. В предобработанном виде доступен по [ссылке](https://github.com/attatrol/data_sources/blob/master/onegin.txt).\n",
    "\n",
    "* Some other text source, if it will be approved by the course staff.\n",
    "\n",
    "Text generation can be designed in several steps:\n",
    "    \n",
    "1. Data loading.\n",
    "2. Dictionary generation.\n",
    "3. Data preprocessing.\n",
    "4. Model (neural network) training.\n",
    "5. Text generation (model evaluation).\n"
   ]
  },
  {
   "cell_type": "code",
   "execution_count": 86,
   "metadata": {},
   "outputs": [],
   "source": [
    "import string\n",
    "import os\n",
    "import re\n",
    "import numpy as np\n",
    "import torch, torch.nn as nn\n",
    "import torch.nn.functional as F\n",
    "import matplotlib.pyplot as plt\n",
    "from IPython.display import clear_output\n",
    "import random\n",
    "\n",
    "device = torch.device(\"cuda\" if torch.cuda.is_available() else \"cpu\")\n",
    "\n",
    "%config InlineBackend.figure_format='retina'"
   ]
  },
  {
   "cell_type": "markdown",
   "metadata": {},
   "source": [
    "### Data loading: Shakespeare"
   ]
  },
  {
   "cell_type": "markdown",
   "metadata": {},
   "source": [
    "Shakespeare sonnets are awailable at this [link](http://www.gutenberg.org/ebooks/1041?msg=welcome_stranger). In addition, they are stored in the same directory as this notebook (`sonnetes.txt`). Simple preprocessing is already done for you in the next cell: all technical info is dropped."
   ]
  },
  {
   "cell_type": "code",
   "execution_count": 11,
   "metadata": {},
   "outputs": [],
   "source": [
    "if not os.path.exists('sonnets.txt'):\n",
    "    !wget https://raw.githubusercontent.com/girafe-ai/ml-course/22f_basic/homeworks_basic/lab02_deep_learning/sonnets.txt\n",
    "\n",
    "with open('sonnets.txt', 'r') as iofile:\n",
    "    text = iofile.readlines()\n",
    "    \n",
    "TEXT_START = 45\n",
    "TEXT_END = -368\n",
    "text = text[TEXT_START : TEXT_END]\n",
    "assert len(text) == 2616"
   ]
  },
  {
   "cell_type": "markdown",
   "metadata": {},
   "source": [
    "In opposite to the in-class practice, this time we want to predict complex text. Let's reduce the complexity of the task and lowercase all the symbols.\n",
    "\n",
    "Now variable `text` is a list of strings. Join all the strings into one and lowercase it."
   ]
  },
  {
   "cell_type": "code",
   "execution_count": 321,
   "metadata": {},
   "outputs": [],
   "source": [
    "# Join all the strings into one and lowercase it\n",
    "# Put result into variable text.\n",
    "\n",
    "# Your great code here\n",
    "\n",
    "# assert len(text) == 100225, 'Are you sure you have concatenated all the strings?'\n",
    "# assert not any([x in set(text) for x in string.ascii_uppercase]), 'Uppercase letters are present'\n",
    "# print('OK!')"
   ]
  },
  {
   "cell_type": "markdown",
   "metadata": {},
   "source": [
    "### Data loading: \"Евгений Онегин\"\n"
   ]
  },
  {
   "cell_type": "code",
   "execution_count": 74,
   "metadata": {},
   "outputs": [],
   "source": [
    "# !wget https://raw.githubusercontent.com/attatrol/data_sources/master/onegin.txt\n",
    "    \n",
    "with open('onegin.txt', 'r') as iofile:\n",
    "    text = iofile.readlines()\n",
    "    \n",
    "text = [x.replace('\\t\\t', '') for x in text]"
   ]
  },
  {
   "cell_type": "markdown",
   "metadata": {},
   "source": [
    "In opposite to the in-class practice, this time we want to predict complex text. Let's reduce the complexity of the task and lowercase all the symbols.\n",
    "\n",
    "Now variable `text` is a list of strings. Join all the strings into one and lowercase it."
   ]
  },
  {
   "cell_type": "code",
   "execution_count": 75,
   "metadata": {},
   "outputs": [
    {
     "name": "stdout",
     "output_type": "stream",
     "text": [
      "*i\n",
      "*«мой дядя самых честных правил,\n",
      "*когда не в шутку занемог,\n",
      "*он уважать себя заставил\n",
      "*и лучше выдумать не мог.\n",
      "*\n"
     ]
    }
   ],
   "source": [
    "# Join all the strings into one and lowercase it\n",
    "# Put result into variable text.\n",
    "\n",
    "# Your great code here\n",
    "ST = \"*\"\n",
    "\n",
    "text = [ST + x.lower() for x in text if x != '\\n']\n",
    "text = [re.sub(' +', ' ', x) for x in text]\n",
    "\n",
    "text = ''.join(text)\n",
    "print(text[:116])"
   ]
  },
  {
   "cell_type": "markdown",
   "metadata": {},
   "source": [
    "Put all the characters, that you've seen in the text, into variable `tokens`."
   ]
  },
  {
   "cell_type": "code",
   "execution_count": 76,
   "metadata": {},
   "outputs": [],
   "source": [
    "PAD = '_'"
   ]
  },
  {
   "cell_type": "code",
   "execution_count": 77,
   "metadata": {},
   "outputs": [
    {
     "name": "stdout",
     "output_type": "stream",
     "text": [
      "['\\n', ' ', '!', '(', ')', '*', ',', '-', '.', '5', '7', '8', '9', ':', ';', '?', '[', ']', '^', 'a', 'b', 'c', 'd', 'e', 'f', 'g', 'h', 'i', 'k', 'l', 'm', 'n', 'o', 'p', 'q', 'r', 's', 't', 'u', 'v', 'w', 'x', 'y', 'z', '«', '»', 'а', 'б', 'в', 'г', 'д', 'е', 'ж', 'з', 'и', 'й', 'к', 'л', 'м', 'н', 'о', 'п', 'р', 'с', 'т', 'у', 'ф', 'х', 'ц', 'ч', 'ш', 'щ', 'ъ', 'ы', 'ь', 'э', 'ю', 'я', 'ё', '–', '—', '’', '…', '€', '_']\n"
     ]
    }
   ],
   "source": [
    "tokens = sorted(set(''.join(text)))\n",
    "tokens.append(PAD)\n",
    "print(tokens)\n",
    "num_tokens = len(tokens)"
   ]
  },
  {
   "cell_type": "markdown",
   "metadata": {},
   "source": [
    "Create dictionary `token_to_idx = {<char>: <index>}` and dictionary `idx_to_token = {<index>: <char>}`"
   ]
  },
  {
   "cell_type": "code",
   "execution_count": 59,
   "metadata": {},
   "outputs": [],
   "source": [
    "# dict <index>:<char>\n",
    "# Your great code here\n",
    "idx_to_token = {idx: ch for idx, ch in enumerate(tokens)}\n",
    "\n",
    "# dict <char>:<index>\n",
    "# Your great code here\n",
    "\n",
    "token_to_idx = {ch: idx for idx, ch in enumerate(tokens)}"
   ]
  },
  {
   "cell_type": "markdown",
   "metadata": {},
   "source": [
    "*Comment: in this task we have only 38 different tokens, so let's use one-hot encoding.*"
   ]
  },
  {
   "cell_type": "markdown",
   "metadata": {},
   "source": [
    "### Building the model"
   ]
  },
  {
   "cell_type": "markdown",
   "metadata": {},
   "source": [
    "Now we want to build and train recurrent neural net which would be able to something similar to Shakespeare's poetry.\n",
    "\n",
    "Let's use vanilla RNN, similar to the one created during the lesson."
   ]
  },
  {
   "cell_type": "code",
   "execution_count": 79,
   "metadata": {},
   "outputs": [],
   "source": [
    "def to_matrix(sentences, max_len = None, pad=PAD, dtype='int32', batch_first=True):\n",
    "    max_len = max_len or max(map(len, sentences))\n",
    "    sentences_ix = np.zeros([len(sentences), max_len], dtype) + token_to_idx[PAD]\n",
    "\n",
    "    for i in range(len(sentences)):\n",
    "        line_ix = [token_to_idx[c] for c in sentences[i]]\n",
    "        sentences_ix[i, :len(line_ix)] = line_ix[:max_len]\n",
    "        \n",
    "    if not batch_first:\n",
    "        sentences_ix = np.transpose(sentences_ix)\n",
    "\n",
    "    return sentences_ix"
   ]
  },
  {
   "cell_type": "code",
   "execution_count": 80,
   "metadata": {},
   "outputs": [],
   "source": [
    "class CharRNNCell(nn.Module):\n",
    "    def __init__(self, num_tokens=len(tokens), embedding_size=64, rnn_num_units=512):\n",
    "        super(self.__class__,self).__init__()\n",
    "        self.num_units = rnn_num_units\n",
    "        \n",
    "        self.embedding = nn.Embedding(num_tokens, embedding_size)\n",
    "        self.rnn_update = nn.Linear(embedding_size + rnn_num_units, rnn_num_units)\n",
    "        self.rnn_to_logits = nn.Linear(rnn_num_units, num_tokens)\n",
    "        \n",
    "    def forward(self, x, h_prev):\n",
    "        x_emb = self.embedding(x)\n",
    "        \n",
    "        x_and_h = torch.cat([x_emb, h_prev], dim=-1)\n",
    "        h_next = self.rnn_update(x_and_h)\n",
    "        h_next = torch.tanh(h_next)\n",
    "        \n",
    "        assert h_next.size() == h_prev.size()\n",
    "        \n",
    "        logits = self.rnn_to_logits(h_next)\n",
    "        \n",
    "        return h_next, F.log_softmax(logits, -1)\n",
    "    \n",
    "    def initial_state(self, batch_size):\n",
    "        return torch.zeros(batch_size, self.num_units, device=device, requires_grad=True)"
   ]
  },
  {
   "cell_type": "code",
   "execution_count": 64,
   "metadata": {},
   "outputs": [],
   "source": [
    "def rnn_loop(char_rnn, batch_ix):\n",
    "    batch_size, max_length = batch_ix.size()\n",
    "    hid_state = char_rnn.initial_state(batch_size)\n",
    "    logprobs = []\n",
    "\n",
    "    for x_t in batch_ix.transpose(0,1):\n",
    "        hid_state, logp_next = char_rnn(x_t, hid_state)\n",
    "        logprobs.append(logp_next)\n",
    "        \n",
    "    return torch.stack(logprobs, dim=1)"
   ]
  },
  {
   "cell_type": "code",
   "execution_count": 117,
   "metadata": {},
   "outputs": [],
   "source": [
    "char_rnn = CharRNNCell().to(device)\n",
    "criterion = nn.NLLLoss(ignore_index = token_to_idx[PAD])\n",
    "opt = torch.optim.Adam(char_rnn.parameters(), lr=0.0001)\n",
    "history = []"
   ]
  },
  {
   "cell_type": "code",
   "execution_count": 118,
   "metadata": {},
   "outputs": [
    {
     "name": "stdout",
     "output_type": "stream",
     "text": [
      "tensor(nan, device='cuda:0', grad_fn=<NllLossBackward0>)\n"
     ]
    }
   ],
   "source": [
    "batch_ix = to_matrix(text)\n",
    "batch_ix = torch.tensor(batch_ix, dtype=torch.int64).to(device)\n",
    "\n",
    "logp_seq = rnn_loop(char_rnn, batch_ix)\n",
    "\n",
    "predictions_logp = logp_seq[:, :-1]\n",
    "actual_next_tokens = batch_ix[:, 1:]\n",
    "\n",
    "loss = criterion(predictions_logp.contiguous().view(-1, num_tokens), \n",
    "                  actual_next_tokens.contiguous().view(-1))\n",
    "print(loss)"
   ]
  },
  {
   "cell_type": "code",
   "execution_count": 119,
   "metadata": {},
   "outputs": [],
   "source": [
    "def rnn_loop(char_rnn, batch_ix):\n",
    "    batch_size, max_length = batch_ix.size()\n",
    "    hid_state = char_rnn.initial_state(batch_size)\n",
    "    logprobs = []\n",
    "\n",
    "    for x_t in batch_ix.transpose(0,1):\n",
    "        hid_state, logp_next = char_rnn(x_t, hid_state)  # <-- here we call your one-step code\n",
    "        logprobs.append(logp_next)\n",
    "        \n",
    "    return torch.stack(logprobs, dim=1)"
   ]
  },
  {
   "cell_type": "code",
   "execution_count": 120,
   "metadata": {},
   "outputs": [],
   "source": [
    "def get_substring(main_str, num_substrings, substr_len):\n",
    "    result = []\n",
    "    for _ in range(num_substrings):\n",
    "        idx = random.randrange(0, len(main_str) - substr_len + 1)\n",
    "        result.append(main_str[idx : (idx+substr_len)])\n",
    "    return result"
   ]
  },
  {
   "cell_type": "code",
   "execution_count": 121,
   "metadata": {},
   "outputs": [
    {
     "data": {
      "image/png": "[encoded data removed]",
      "text/plain": [
       "<Figure size 1400x600 with 1 Axes>"
      ]
     },
     "metadata": {
      "image/png": {
       "height": 530,
       "width": 1143
      }
     },
     "output_type": "display_data"
    }
   ],
   "source": [
    "%%time\n",
    "history = []\n",
    "\n",
    "for i in range(50000):\n",
    "    subtext = get_substring(text, 128, 64)\n",
    "    \n",
    "    batch_ix = to_matrix(subtext, max_len=64)\n",
    "    batch_ix = torch.tensor(batch_ix, dtype=torch.int64).to(device)\n",
    "    \n",
    "    logp_seq = rnn_loop(char_rnn, batch_ix)\n",
    "    \n",
    "    # compute loss\n",
    "    predictions_logp = logp_seq[:, :-1]\n",
    "    actual_next_tokens = batch_ix[:, 1:]\n",
    "    loss = criterion(predictions_logp.contiguous().view(-1, len(tokens)), \n",
    "                    actual_next_tokens.contiguous().view(-1))\n",
    "    \n",
    "    # train with backprop\n",
    "\n",
    "    loss.backward()\n",
    "    opt.step()\n",
    "    opt.zero_grad()\n",
    "    loss_value = loss.data.cpu().numpy()\n",
    "    \n",
    "    history.append(loss.data.cpu().numpy())\n",
    "    if (i+1)%100==0:\n",
    "        clear_output(True)\n",
    "        fig, ax = plt.subplots(figsize=(14, 6))\n",
    "        plt.plot(history,label='loss')\n",
    "        plt.xlabel('epochs')\n",
    "        plt.ylabel('loss')\n",
    "        plt.ylim((0,5))\n",
    "        plt.grid()\n",
    "        plt.legend()\n",
    "        plt.show()\n",
    "\n",
    "assert np.mean(history[:10]) > np.mean(history[-10:]), \"RNN didn't converge.\"\n",
    "print(np.mean(history[-10:])"
   ]
  },
  {
   "cell_type": "code",
   "execution_count": 324,
   "metadata": {},
   "outputs": [],
   "source": [
    "def generate_sample(char_rnn, seed_phrase='  ', max_length=100, temperature=1.0):    \n",
    "    x_sequence = [token_to_idx[token] for token in seed_phrase]\n",
    "    x_sequence = torch.tensor([x_sequence], dtype=torch.int64).to(device)\n",
    "    hid_state = char_rnn.initial_state(batch_size=1)\n",
    "    \n",
    "    for i in range(len(seed_phrase) - 1):\n",
    "        hid_state, out = char_rnn(x_sequence[:, i], hid_state)\n",
    "    \n",
    "    \n",
    "    for _ in range(max_length - len(seed_phrase)):\n",
    "        hid_state, out = char_rnn(x_sequence[:, -1], hid_state)\n",
    "        p_next = F.softmax(out / temperature, dim=-1).data.cpu().numpy()[0]\n",
    "        next_ix = np.random.choice(len(tokens), p=p_next)\n",
    "        next_ix = torch.tensor([[next_ix]], dtype=torch.int64).to(device)\n",
    "        x_sequence = torch.cat([x_sequence, next_ix], dim=1)\n",
    "    result = ''.join([tokens[ix] for ix in x_sequence.data.cpu().numpy()[0] if tokens[ix] != ST])\n",
    "    \n",
    "    return result"
   ]
  },
  {
   "cell_type": "code",
   "execution_count": 325,
   "metadata": {},
   "outputs": [
    {
     "name": "stdout",
     "output_type": "stream",
     "text": [
      "идет девица свята;\n",
      "моневновьязненной души моей,\n",
      "письмо какое-то читает\n",
      "и тихо слезы льет рекой,\n",
      "опершись на руку щекой.\n",
      "xli\n",
      "о, кто б немых ее страданий\n",
      "в сей быстрый миг не прочитал!\n",
      "кто прежней тани, бедной тани\n",
      "теперь в княгине б не узнал!\n",
      "в тоске безумных сожалений\n",
      "к ее ногам упал евгений;\n",
      "она вздрогнула и молчит\n",
      "и на онегина глядит\n",
      "без удивления, без гнева…\n",
      "его больной, угасший взор,\n",
      "молящий вид, немой укор,\n",
      "ей внятно всё. простая дева,\n",
      "с мечтами, сердцем прежних дней,\n",
      "теперь опять воскресла в ней.\n",
      "xlii\n",
      "она его не подымает\n",
      "и, не сводя с него очей,\n",
      "от жадных уст не отымает\n",
      "бесчувственной руки своей…\n",
      "о чем теперь ее мечтанье?\n",
      "проходит долгое молчанье,\n",
      "и тихо наконец она:\n",
      "«довольно; встаньте. я должна\n",
      "вам объясниться откровенно.\n",
      "онегин, помните ль тот час,\n",
      "когда в саду, в аллее нас\n",
      "судьба свела, и так смиренно\n",
      "урок ваш выслушала я?\n",
      "сегодня очередь моя.\n",
      "xliii\n",
      "«онегин, я тогда моложе,\n",
      "я лучше, кажется, была,\n",
      "и я любила вас; и что же?\n",
      "что в сердце \n"
     ]
    }
   ],
   "source": [
    "# An example of generated text.\n",
    "result = generate_sample(char_rnn, seed_phrase='*идет девица', max_length=1000, temperature=0.1)\n",
    "print(result)"
   ]
  },
  {
   "cell_type": "markdown",
   "metadata": {},
   "source": [
    "### More poetic model\n",
    "\n",
    "Let's use LSTM instead of vanilla RNN and compare the results."
   ]
  },
  {
   "cell_type": "markdown",
   "metadata": {},
   "source": [
    "Plot the loss function of the number of epochs. Does the final loss become better?"
   ]
  },
  {
   "cell_type": "code",
   "execution_count": 328,
   "metadata": {},
   "outputs": [],
   "source": [
    "class CharLSTMCell(nn.Module):\n",
    "    def __init__(self, num_tokens=len(tokens), emb_size=64, lstm_num_units=512):\n",
    "        super(self.__class__, self).__init__()\n",
    "        self.num_units = lstm_num_units\n",
    "        self.emb = nn.Embedding(len(tokens), emb_size)\n",
    "        self.lstm = nn.LSTM(emb_size, self.num_units, batch_first=True)\n",
    "        \n",
    "        # If the LSTM is bidirectional, double the input feature dimension for the linear layer\n",
    "        self.hid_to_logits = nn.Linear(self.num_units, num_tokens)\n",
    "\n",
    "    def forward(self, x, hidden=None):\n",
    "        h_seq, hidden = self.lstm(self.emb(x), hidden)\n",
    "        next_logits = self.hid_to_logits(h_seq)\n",
    "        next_logp = F.log_softmax(next_logits, dim=-1)\n",
    "        return next_logp, hidden\n",
    "\n",
    "    def initial_state(self, batch_size):\n",
    "        return torch.zeros(batch_size, self.num_units, device=device, requires_grad=True)"
   ]
  },
  {
   "cell_type": "code",
   "execution_count": 294,
   "metadata": {},
   "outputs": [],
   "source": [
    "char_lstm = CharLSTMCell().to(device)\n",
    "criterion = nn.NLLLoss(ignore_index = token_to_idx[PAD])\n",
    "opt = torch.optim.Adam(char_lstm.parameters(), lr=0.0001)\n",
    "lstm_history = []"
   ]
  },
  {
   "cell_type": "code",
   "execution_count": 295,
   "metadata": {},
   "outputs": [
    {
     "data": {
      "image/png": "[encoded data removed]",
      "text/plain": [
       "<Figure size 1400x600 with 1 Axes>"
      ]
     },
     "metadata": {
      "image/png": {
       "height": 530,
       "width": 1143
      }
     },
     "output_type": "display_data"
    }
   ],
   "source": [
    "for i in range(50000):\n",
    "    subtext = get_substring(text, 256, 64)\n",
    "    \n",
    "    batch_ix = to_matrix(subtext, max_len=64)\n",
    "    batch_ix = torch.tensor(batch_ix, dtype=torch.int64).to(device)\n",
    "    \n",
    "    logp_seq, _ = char_lstm(batch_ix)\n",
    "    \n",
    "    # compute loss\n",
    "    predictions_logp = logp_seq[:, :-1]\n",
    "    actual_next_tokens = batch_ix[:, 1:]\n",
    "    loss = criterion(predictions_logp.contiguous().view(-1, len(tokens)), \n",
    "                    actual_next_tokens.contiguous().view(-1))\n",
    "\n",
    "    loss.backward()\n",
    "    opt.step()\n",
    "    opt.zero_grad()\n",
    "    loss_value = loss.data.cpu().numpy()\n",
    "    \n",
    "    lstm_history.append(loss.data.cpu().numpy())\n",
    "    if (i+1)%100==0:\n",
    "        clear_output(True)\n",
    "        fig, ax = plt.subplots(figsize=(14, 6))\n",
    "        plt.plot(lstm_history,label='loss')\n",
    "        plt.xlabel('epochs')\n",
    "        plt.ylabel('loss')\n",
    "        plt.ylim((0,5))\n",
    "        plt.grid()\n",
    "        plt.legend()\n",
    "        plt.show()\n",
    "\n",
    "assert np.mean(lstm_history[:10]) > np.mean(lstm_history[-10:]), \"LSTM didn't converge.\"\n",
    "print(np.mean(lstm_history[-10:])"
   ]
  },
  {
   "cell_type": "code",
   "execution_count": 322,
   "metadata": {},
   "outputs": [],
   "source": [
    "def generate_sample_lstm(char_lstm, seed_phrase=' ', max_length=100, temperature=1.0):\n",
    "    x_sequence = [token_to_idx[token] for token in seed_phrase]\n",
    "    x_sequence = torch.tensor([x_sequence], dtype=torch.int64).to(device)\n",
    "    \n",
    "    h_state = torch.zeros(1, 1, char_lstm.num_units, device=device)\n",
    "    c_state = torch.zeros(1, 1, char_lstm.num_units, device=device)\n",
    "\n",
    "    # Process the seed phrase if it's longer than one character\n",
    "    for i in range(len(seed_phrase) - 1):\n",
    "        _, (h_state, c_state) = char_lstm(x_sequence[:, i].unsqueeze(0), (h_state, c_state))\n",
    "\n",
    "    # Generate new characters\n",
    "    for _ in range(max_length - len(seed_phrase)):\n",
    "        logits, (h_state, c_state) = char_lstm(x_sequence[:, -1].unsqueeze(0), (h_state, c_state))\n",
    "        p_next = F.softmax(logits / temperature, dim=-1).data.cpu().numpy()[0]\n",
    "        next_ix = np.random.choice(len(tokens), p=p_next.ravel())\n",
    "        next_ix = torch.tensor([[next_ix]], dtype=torch.int64).to(device)\n",
    "        x_sequence = torch.cat([x_sequence, next_ix], dim=1)\n",
    "\n",
    "    result = ''.join([tokens[ix] for ix in x_sequence.data.cpu().numpy()[0] if tokens[ix] != ST])\n",
    "    return result\n"
   ]
  },
  {
   "cell_type": "code",
   "execution_count": 323,
   "metadata": {},
   "outputs": [
    {
     "name": "stdout",
     "output_type": "stream",
     "text": [
      "идет девица первый зал,\n",
      "что нет нелепицы такой,\n",
      "ни эпиграммы площадной,\n",
      "которой бы ваш друг с улыбкой,\n",
      "в кругу порядочных людей,\n",
      "без всякой злобы и затей,\n",
      "не повторил стократ ошибкой;\n",
      "а впрочем, он за вас горой:\n",
      "он вас так любит… как родной!\n",
      "xx\n",
      "гм! гм! читатель благородный,\n",
      "здорова ль ваша вся родня?\n",
      "позвольте: может быть, угодно\n",
      "теперь узнать вам от меня,\n",
      "что значит именно родные.\n",
      "родные люди вот какие:\n",
      "мы их обязаны ласкать,\n",
      "любить, душевно уважать\n",
      "и, по обычаю народа,\n",
      "о рождестве их навещать\n",
      "или по почте поздравлять,\n",
      "чтоб остальное время года\n",
      "не думали о нас они…\n",
      "итак, дай бог им долги дни!\n",
      "xxi\n",
      "зато любовь красавиц нежных\n",
      "надежней дружбы и родства:\n",
      "над нею и средь бурь мятежных\n",
      "вы сохраняете права.\n",
      "конечно так. но вихорь моды,\n",
      "но своенравие природы,\n",
      "но мненья светского поток…\n",
      "а милый пол, как пух, легок.\n",
      "к тому ж и мнения супруга\n",
      "для добродетельной жены\n",
      "всегда почтенны быть должны;\n",
      "так ваша верная подруга\n",
      "бывает вмиг увлечена:\n",
      "любовью шутит сат\n"
     ]
    }
   ],
   "source": [
    "result = generate_sample_lstm(char_lstm, seed_phrase='*идет девица', max_length=1000, temperature=0.1)\n",
    "print(result)"
   ]
  },
  {
   "cell_type": "markdown",
   "metadata": {},
   "source": [
    "Generate text using the trained net with different `temperature` parameter: `[0.1, 0.2, 0.5, 1.0, 2.0]`.\n",
    "\n",
    "Evaluate the results visually, try to interpret them."
   ]
  },
  {
   "cell_type": "code",
   "execution_count": 298,
   "metadata": {},
   "outputs": [
    {
     "name": "stdout",
     "output_type": "stream",
     "text": [
      "идет девица первый зал,\n",
      "что нет нелепицы такой,\n",
      "ни эпиграммы площадной,\n",
      "которой бы ваш друг с улыбкой,\n",
      "в кругу порядочных людей,\n",
      "без всякой злобы и затей,\n",
      "не повторил стократ ошибкой;\n",
      "а впрочем, он за вас горой:\n",
      "он вас так любит… как родной!\n",
      "xx\n",
      "гм! гм! читатель благородный,\n",
      "здорова ль ваша вся родня?\n",
      "позвольте: может быть, угодно\n",
      "теперь узнать вам от меня,\n",
      "что значит именно родные.\n",
      "родные люди вот какие:\n",
      "мы их обязаны ласкать,\n",
      "любить, душевно уважать\n",
      "и, по обычаю народа,\n",
      "о рождестве их навещать\n",
      "или по почте поздравлять,\n",
      "чтоб остальное время года\n",
      "не думали о нас они…\n",
      "итак, дай бог им долги дни!\n",
      "xxi\n",
      "зато любовь красавиц нежных\n",
      "надежней дружбы и родства:\n",
      "над нею и средь бурь мятежных\n",
      "вы сохраняете права.\n",
      "конечно так. но вихорь моды,\n",
      "но своенравие природы,\n",
      "но мненья светского поток…\n",
      "а милый пол, как пух, легок.\n",
      "к тому ж и мнения супруга\n",
      "для добродетельной жены\n",
      "всегда почтенны быть должны;\n",
      "так ваша верная подруга\n",
      "бывает вмиг увлечена:\n",
      "любовью шутит сат\n"
     ]
    }
   ],
   "source": [
    "result = generate_sample_lstm(char_lstm, seed_phrase='*идет девица', max_length=1000, temperature=0.1)\n",
    "print(result)"
   ]
  },
  {
   "cell_type": "code",
   "execution_count": 300,
   "metadata": {},
   "outputs": [
    {
     "name": "stdout",
     "output_type": "stream",
     "text": [
      "идет девица первый зал,\n",
      "что нет нелепицы такой,\n",
      "ни эпиграммы площадной,\n",
      "которой бы ваш друг с улыбкой,\n",
      "в кругу порядочных людей,\n",
      "без всякой злобы и затей,\n",
      "не повторил стократ ошибкой;\n",
      "а впрочем, он за вас горой:\n",
      "он вас так любит… как родной!\n",
      "xx\n",
      "гм! гм! читатель благородный,\n",
      "здорова ль ваша вся родня?\n",
      "позвольте: может быть, угодно\n",
      "теперь узнать вам от меня,\n",
      "что значит именно родные.\n",
      "родные люди вот какие:\n",
      "мы их обязаны ласкать,\n",
      "любить, душевно уважать\n",
      "и, по обычаю народа,\n",
      "о рождестве их навещать\n",
      "или по почте поздравлять,\n",
      "чтоб остальное время года\n",
      "не думали о нас они…\n",
      "итак, дай бог им долги дни!\n",
      "xxi\n",
      "зато любовь красавиц нежных\n",
      "надежней дружбы и родства:\n",
      "над нею и средь бурь мятежных\n",
      "вы сохраняете права.\n",
      "конечно так. но вихорь моды,\n",
      "но своенравие природы,\n",
      "но мненья светского поток…\n",
      "а милый пол, как пух, легок.\n",
      "к тому ж и мнения супруга\n",
      "для добродетельной жены\n",
      "всегда почтенны быть должны;\n",
      "так ваша верная подруга\n",
      "бывает вмиг увлечена:\n",
      "любовью шутит сат\n"
     ]
    }
   ],
   "source": [
    "result = generate_sample_lstm(char_lstm, seed_phrase='*идет девица', max_length=1000, temperature=0.2)\n",
    "print(result)"
   ]
  },
  {
   "cell_type": "code",
   "execution_count": 303,
   "metadata": {},
   "outputs": [
    {
     "name": "stdout",
     "output_type": "stream",
     "text": [
      "идет девица первый залы,\n",
      "что пуня… пошли довольной\n",
      "всегда печрусной иглы для негода,\n",
      "сражен, клячем и ним?..\n",
      "таким уж темном сетеашался\n",
      "когда б он знал, какая рана\n",
      "моей татьяны сердце жгла!\n",
      "когда бы ведала татьяна,\n",
      "когда бы знать она могла,\n",
      "что завтра ленский и евгений\n",
      "заспорят о могильной сени;\n",
      "ах, может быть, ее любовь\n",
      "друзей соединила б вновь!\n",
      "но этой страсти и случайно\n",
      "еще никто не открывал.\n",
      "онегин обо всем молчал;\n",
      "татьяна изнывала тайно;\n",
      "одна бы няня знать могла,\n",
      "да недогадлива была.\n",
      "xix\n",
      "весь вечер ленский был рассеян,\n",
      "то молчалив, то весел вновь;\n",
      "но тот, кто музою взлелеян,\n",
      "всегда таков: нахмуря бровь,\n",
      "садился он за клавикорды\n",
      "и брал на них одни аккорды,\n",
      "то, к ольге взоры устремив,\n",
      "шептал: не правда ль? я счастлив.\n",
      "но поздно; время ехать. сжалось\n",
      "в нем сердце, полное тоской;\n",
      "прощаясь с девой молодой,\n",
      "оно как будто разрывалось.\n",
      "она глядит ему в лицо.\n",
      "«что с вами?» – «так». – и на крыльцо.\n",
      "xx\n",
      "домой приехав, пистолеты\n",
      "он осмотрел, потом вложил\n",
      "о\n"
     ]
    }
   ],
   "source": [
    "result = generate_sample_lstm(char_lstm, seed_phrase='*идет девица', max_length=1000, temperature=0.5)\n",
    "print(result)"
   ]
  },
  {
   "cell_type": "code",
   "execution_count": 305,
   "metadata": {},
   "outputs": [
    {
     "name": "stdout",
     "output_type": "stream",
     "text": [
      "идет девица первый пись.\n",
      "x\n",
      "опанан вы взорова;\n",
      "пойку бы в наши липом?\n",
      "xxxvii\n",
      "тат пылкий рад, и пламен),\n",
      "а нас уловами мечтеной\n",
      "вас просвящий нов, чувств и немной,\n",
      "между твердили цатогрий\n",
      "от светой рукой раппервый;\n",
      "тамину над иногдан\n",
      "синьсвие вепцатом своих,\n",
      "на язные надеж ночкам,\n",
      "кто челаньтеся слушает,\n",
      "ты жизнь могущая дает\n",
      "и пышный цвет, и сладкий плод.\n",
      "но в возраст поздний и бесплодный,\n",
      "на повороте наших либ,\n",
      "и чувств и длинниц зовет к перь,\n",
      "иль поспечная дева,\n",
      "старик, плескал им едам дубовны,\n",
      "над этой иль, милый мостов,\n",
      "и расскажкая тень самая,\n",
      "то вонит пило; до ней ночкой,\n",
      "различно повторять одно,\n",
      "стараться важно в том уверить,\n",
      "в сем советшершею ланью.\n",
      "имен, не она могла б время; может быть,\n",
      "еще грустят… на что грустить?..\n",
      "xv\n",
      "был вечер. небо меркло. воды\n",
      "струились тихо. жук жужжал.\n",
      "уж распых аллей,\n",
      "для песен, ими вдохнулась,\n",
      "или как-то вздохочь и похвал\n",
      "и как геронки милах ин:\n",
      "а жив томится; ко слуга\n",
      "нахмушие мадорный ар,\n",
      "и где ожествием сладо\n"
     ]
    }
   ],
   "source": [
    "result = generate_sample_lstm(char_lstm, seed_phrase='*идет девица', max_length=1000, temperature=1.0)\n",
    "print(result)"
   ]
  },
  {
   "cell_type": "code",
   "execution_count": 306,
   "metadata": {},
   "outputs": [
    {
     "name": "stdout",
     "output_type": "stream",
     "text": [
      "идет девица стои дала,\n",
      "одним псшорог упочтил,\n",
      "меня бесняющим дюу:\n",
      "погущин госпорил о…\n",
      "нооте пуси ль приuаты очерь,\n",
      "что сьмо трещет поро? начшен – в позрак лишь гутри.\n",
      "xxvi\n",
      "симь на разъезме не вече:\n",
      "и луна сохражде истляннуц\n",
      "и, воспела и холей,\n",
      "втам и славо блажестный награды,\n",
      "голойки искренние модушь.\n",
      "xevii\n",
      "«учитал! vii\n",
      "«на все ль? чут жи эте кнето тамбю,\n",
      "и лея бармонных мричит:\n",
      "«баль не чог начинает ей? —\n",
      "свясть оледен печен стапноют дом;\n",
      "под писелуйкий денеинесь.\n",
      "xxix\n",
      "ее прогул! ееть улелою\n",
      "пустыл гусиной земли счастливцы,\n",
      "вы, к ним любимых лег;\n",
      "меж тем, мелыйку ленью.\n",
      "бават ласкать, вержелый рязаме…)\n",
      "xlvii\n",
      "и принжавоу шеетв\n",
      "у книжкооб ноги,\n",
      "xliii\n",
      "душу, в цибходтельной\n",
      "и саблошать сужбаров.\n",
      "хна ли что прах парточе пригунчена.\n",
      "встарь ахматулая тернилопам\n",
      "не мосмлив. оне им них-дость\n",
      "сюдаю, ночтенье, встретят,\n",
      "без пленки фреке тверждый дрохнова,\n",
      "капада ж. эна! он рочи\n",
      "залит проклечше ес. – втой простотой,\n",
      "на толпо барывать уголо.\n",
      "дети, хоте лежащ\n"
     ]
    }
   ],
   "source": [
    "result = generate_sample_lstm(char_lstm, seed_phrase='*идет девица', max_length=1000, temperature=2.0)\n",
    "print(result)"
   ]
  },
  {
   "cell_type": "markdown",
   "metadata": {},
   "source": [
    "### Saving and loading models"
   ]
  },
  {
   "cell_type": "markdown",
   "metadata": {},
   "source": [
    "Save the model to the disk, then load it and generate text. Examples are available [here](https://pytorch.org/tutorials/beginner/saving_loading_models.html])."
   ]
  },
  {
   "cell_type": "code",
   "execution_count": 307,
   "metadata": {},
   "outputs": [],
   "source": [
    "torch.save(char_lstm.state_dict(), 'char_lstm.pth')"
   ]
  },
  {
   "cell_type": "code",
   "execution_count": 313,
   "metadata": {},
   "outputs": [
    {
     "data": {
      "text/plain": [
       "CharLSTMCell(\n",
       "  (emb): Embedding(85, 64)\n",
       "  (lstm): LSTM(64, 512, batch_first=True)\n",
       "  (hid_to_logits): Linear(in_features=512, out_features=85, bias=True)\n",
       ")"
      ]
     },
     "execution_count": 313,
     "metadata": {},
     "output_type": "execute_result"
    }
   ],
   "source": [
    "new_lstm = CharLSTMCell()\n",
    "new_lstm.load_state_dict(torch.load('char_lstm.pth'))\n",
    "new_lstm.to(device)"
   ]
  },
  {
   "cell_type": "code",
   "execution_count": 317,
   "metadata": {},
   "outputs": [
    {
     "name": "stdout",
     "output_type": "stream",
     "text": [
      "идет девица первый зал,\n",
      "что нет нелепицы такой,\n",
      "ни эпиграммы площадной,\n",
      "которой бы ваш друг с улыбкой,\n",
      "в кругу порядочных людей,\n",
      "без всякой злобы и затей,\n",
      "не повторил стократ ошибкой;\n",
      "а впрочем, он за вас горой:\n",
      "он вас так любит… как родной!\n",
      "xx\n",
      "гм! гм! читатель благородный,\n",
      "здорова ль ваша вся родня?\n",
      "позвольте: может быть, угодно\n",
      "теперь узнать вам от меня,\n",
      "что значит именно родные.\n",
      "родные люди вот какие:\n",
      "мы их обязаны ласкать,\n",
      "любить, душевно уважать\n",
      "и, по обычаю народа,\n",
      "о рождестве их навещать\n",
      "или по почте поздравлять,\n",
      "чтоб остальное время года\n",
      "не думали о нас они…\n",
      "итак, дай бог им долги дни!\n",
      "xxi\n",
      "зато любовь красавиц нежных\n",
      "надежней дружбы и родства:\n",
      "над нею и средь бурь мятежных\n",
      "вы сохраняете права.\n",
      "конечно так. но вихорь моды,\n",
      "но своенравие природы,\n",
      "но мненья светского поток…\n",
      "а милый пол, как пух, легок.\n",
      "к тому ж и мнения супруга\n",
      "для добродетельной жены\n",
      "всегда почтенны быть должны;\n",
      "так ваша верная подруга\n",
      "бывает вмиг увлечена:\n",
      "любовью шутит сат\n"
     ]
    }
   ],
   "source": [
    "result = generate_sample_lstm(new_lstm, seed_phrase='*идет девица', max_length=1000, temperature=0.1)\n",
    "print(result)"
   ]
  },
  {
   "cell_type": "markdown",
   "metadata": {},
   "source": [
    "# Выводы"
   ]
  },
  {
   "cell_type": "markdown",
   "metadata": {},
   "source": [
    "Как показывает проведенный опыт, Vanilla RNN можно обучить и сгененировать довольно сносный текст с малым количеством неверных слов. При этом в большинстве случаев соблюдается рифма. Обучение проводилось на протяжении 50000 эпох. Пробовал вместо Adam использовать SGD и RMSProp, но результат оказался хуже. Пытался начинать обучение с более высоким learning rate и использовать ReduceLROnPlateau, но результат улучшить не удалось. Оказалось, что в этом случае Adam и lr 0.0001 оптимальны.\n",
    "\n",
    "Использование LSTM вместо RNN ускоряет обучение, и после 50000 эпох финальное значение loss оказывается ниже. Модель LSTM строит текст интереснее, более похож на написанный человеком. Однако на обучение модели требуется немного больше времени.\n",
    "\n",
    "Параметр temperature отвечает за то насколько случайным будет выбор следующего токена. Как видно из опыта, модель LSTM при низких значения temperature 0.1 и 0.2 генерирует идентичный текст при одинаковом seed. При увеличении значения параметра сгенерированный текст становится более хаотичным, появляются несуществующие слова и теряется рифма.\n",
    "\n",
    "В конце работы показано как можно сохранить параметры обученной модели, загрузить их обратно и использовать предобученную модель для генерации текста."
   ]
  },
  {
   "cell_type": "markdown",
   "metadata": {},
   "source": [
    "### References\n",
    "1. <a href='http://karpathy.github.io/2015/05/21/rnn-effectiveness/'> Andrew Karpathy blog post about RNN. </a> \n",
    "There are several examples of genration: Shakespeare texts, Latex formulas, Linux Sourse Code and children names.\n",
    "2. <a href='https://github.com/karpathy/char-rnn'> Repo with char-rnn code </a>\n",
    "3. Cool repo with PyTorch examples: [link](https://github.com/spro/practical-pytorch`)"
   ]
  }
 ],
 "metadata": {
  "anaconda-cloud": {},
  "kernelspec": {
   "display_name": "Python 3 (ipykernel)",
   "language": "python",
   "name": "python3"
  },
  "language_info": {
   "codemirror_mode": {
    "name": "ipython",
    "version": 3
   },
   "file_extension": ".py",
   "mimetype": "text/x-python",
   "name": "python",
   "nbconvert_exporter": "python",
   "pygments_lexer": "ipython3",
   "version": "3.10.12"
  }
 },
 "nbformat": 4,
 "nbformat_minor": 4
}
